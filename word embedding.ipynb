{
 "cells": [
  {
   "cell_type": "code",
   "execution_count": 1,
   "metadata": {
    "collapsed": false
   },
   "outputs": [],
   "source": [
    "import os\n",
    "os.environ['TF_CPP_MIN_LOG_LEVEL']='2'\n",
    "\n",
    "import numpy as np\n",
    "from tensorflow.contrib.tensorboard.plugins import projector\n",
    "import tensorflow as tf\n",
    "\n",
    "import utils\n",
    "import word2vec_utils\n",
    "\n",
    "# Model hyperparameters\n",
    "VOCAB_SIZE = 50000\n",
    "BATCH_SIZE = 128\n",
    "EMBED_SIZE = 128            # dimension of the word embedding vectors\n",
    "SKIP_WINDOW = 1             # the context window\n",
    "NUM_SAMPLED = 64            # number of negative examples to sample\n",
    "LEARNING_RATE = 1.0\n",
    "NUM_TRAIN_STEPS = 100000\n",
    "VISUAL_FLD = 'visualization'\n",
    "SKIP_STEP = 5000\n",
    "\n",
    "# Parameters for downloading data\n",
    "DOWNLOAD_URL = 'http://mattmahoney.net/dc/text8.zip'\n",
    "EXPECTED_BYTES = 31344016\n",
    "NUM_VISUALIZE = 3000 "
   ]
  },
  {
   "cell_type": "code",
   "execution_count": 2,
   "metadata": {
    "collapsed": false
   },
   "outputs": [],
   "source": [
    "def word2vec(dataset):\n",
    "    \n",
    "    with tf.name_scope(\"data\"):\n",
    "        \n",
    "        iterator = dataset.make_initializable_iterator()\n",
    "        center_words,target_words = iterator.get_next()\n",
    "        \n",
    "    with tf.name_scope(\"embed\"):\n",
    "        \n",
    "        embed_matrix = tf.get_variable(\"embed_matrix\",shape = [VOCAB_SIZE,EMBED_SIZE],initializer = tf.random_uniform_initializer())\n",
    "        embed = tf.nn.embedding_lookup(embed_matrix,center_words,name=\"embedding\")\n",
    "        \n",
    "    with tf.name_scope(\"loss\"):\n",
    "        \n",
    "        nce_weight = tf.get_variable('nce_weight',shape = [VOCAB_SIZE,EMBED_SIZE],\n",
    "                                    initializer = tf.truncated_normal_initializer())\n",
    "        nce_bias = tf.get_variable('nce_bias',\n",
    "                                  initializer = tf.zeros([VOCAB_SIZE]))\n",
    "        \n",
    "        loss = tf.reduce_mean(tf.nn.nce_loss(weights = nce_weight,\n",
    "                                            biases = nce_bias,\n",
    "                                            labels = target_words,\n",
    "                                            inputs =embed,\n",
    "                                            num_classes = VOCAB_SIZE,\n",
    "                                            num_sampled = NUM_SAMPLED),name = 'loss')\n",
    "        \n",
    "    with tf.name_scope(\"optimizer\"):\n",
    "        \n",
    "        optimizer = tf.train.AdamOptimizer(LEARNING_RATE).minimize(loss)\n",
    "        \n",
    "    utils.safe_mkdir('checkpoints')\n",
    "    \n",
    "    with tf.Session() as sess:\n",
    "        \n",
    "        sess.run(iterator.initializer)\n",
    "        sess.run(tf.global_variables_initializer())\n",
    "        \n",
    "        total_loss = 0\n",
    "        \n",
    "        for index in range(NUM_TRAIN_STEPS):\n",
    "            try:\n",
    "                loss_batch, _ = sess.run([loss, optimizer])\n",
    "                total_loss += loss_batch\n",
    "                if (index + 1) % SKIP_STEP == 0:\n",
    "                    print('Average loss at step {}: {:5.1f}'.format(index, total_loss / SKIP_STEP))\n",
    "                    total_loss = 0.0\n",
    "            except tf.errors.OutOfRangeError:\n",
    "                sess.run(iterator.initializer)\n",
    "            \n",
    "    "
   ]
  },
  {
   "cell_type": "code",
   "execution_count": null,
   "metadata": {
    "collapsed": false
   },
   "outputs": [
    {
     "name": "stdout",
     "output_type": "stream",
     "text": [
      "Downloading http://mattmahoney.net/dc/text8.zip\n"
     ]
    }
   ],
   "source": [
    "def gen():\n",
    "    yield from word2vec_utils.batch_gen(DOWNLOAD_URL, EXPECTED_BYTES, VOCAB_SIZE, \n",
    "                                        BATCH_SIZE, SKIP_WINDOW, VISUAL_FLD)\n",
    "\n",
    "def main():\n",
    "    dataset = tf.data.Dataset.from_generator(gen, \n",
    "                                (tf.int32, tf.int32), \n",
    "                                (tf.TensorShape([BATCH_SIZE]), tf.TensorShape([BATCH_SIZE, 1])))\n",
    "    word2vec(dataset)\n",
    "\n",
    "if __name__ == '__main__':\n",
    "    main()"
   ]
  },
  {
   "cell_type": "code",
   "execution_count": null,
   "metadata": {
    "collapsed": true
   },
   "outputs": [],
   "source": []
  },
  {
   "cell_type": "code",
   "execution_count": null,
   "metadata": {
    "collapsed": true
   },
   "outputs": [],
   "source": []
  }
 ],
 "metadata": {
  "anaconda-cloud": {},
  "kernelspec": {
   "display_name": "Python [conda env:Anaconda3]",
   "language": "python",
   "name": "conda-env-Anaconda3-py"
  },
  "language_info": {
   "codemirror_mode": {
    "name": "ipython",
    "version": 3
   },
   "file_extension": ".py",
   "mimetype": "text/x-python",
   "name": "python",
   "nbconvert_exporter": "python",
   "pygments_lexer": "ipython3",
   "version": "3.5.2"
  }
 },
 "nbformat": 4,
 "nbformat_minor": 2
}
